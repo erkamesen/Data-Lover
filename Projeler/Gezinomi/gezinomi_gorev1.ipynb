{
 "cells": [
  {
   "cell_type": "markdown",
   "metadata": {},
   "source": [
    "**SaleId** : Satışid\n",
    "**SaleDate** : SatışTarihi\n",
    "**Price** : Satışiçin ödenen fiyat\n",
    "**ConceptName**: Otel konsept bilgisi\n",
    "**SaleCityName**: Otelin bulunduğu şehir bilgisi\n",
    "**CheckInDate** : Müşterinin otele girişi tarihi\n",
    "**CInDay**: Müşterinin otele girişgünü\n",
    "**SaleCheckInDayDiff**: Check in ile giriştarihi gün farkı\n",
    "**Season**: Otele giriştarihindeki sezon bilgisi\n"
   ]
  },
  {
   "cell_type": "markdown",
   "metadata": {},
   "source": [
    "# Soru 1 :  miuul_gezinomi.xlsx dosyasını okutunuz ve veri seti ile ilgili genel bilgileri gösteriniz."
   ]
  },
  {
   "cell_type": "code",
   "execution_count": 2,
   "metadata": {},
   "outputs": [],
   "source": [
    "import pandas as pd\n",
    "import numpy as np\n",
    "df = pd.read_excel(\"miuul_gezinomi.xlsx\")"
   ]
  },
  {
   "cell_type": "code",
   "execution_count": 2,
   "metadata": {},
   "outputs": [
    {
     "data": {
      "text/html": [
       "<div>\n",
       "<style scoped>\n",
       "    .dataframe tbody tr th:only-of-type {\n",
       "        vertical-align: middle;\n",
       "    }\n",
       "\n",
       "    .dataframe tbody tr th {\n",
       "        vertical-align: top;\n",
       "    }\n",
       "\n",
       "    .dataframe thead th {\n",
       "        text-align: right;\n",
       "    }\n",
       "</style>\n",
       "<table border=\"1\" class=\"dataframe\">\n",
       "  <thead>\n",
       "    <tr style=\"text-align: right;\">\n",
       "      <th></th>\n",
       "      <th>SaleId</th>\n",
       "      <th>SaleDate</th>\n",
       "      <th>CheckInDate</th>\n",
       "      <th>Price</th>\n",
       "      <th>ConceptName</th>\n",
       "      <th>SaleCityName</th>\n",
       "      <th>CInDay</th>\n",
       "      <th>SaleCheckInDayDiff</th>\n",
       "      <th>Seasons</th>\n",
       "    </tr>\n",
       "  </thead>\n",
       "  <tbody>\n",
       "    <tr>\n",
       "      <th>0</th>\n",
       "      <td>415122</td>\n",
       "      <td>2022-12-03</td>\n",
       "      <td>2022-12-03</td>\n",
       "      <td>79.304029</td>\n",
       "      <td>Herşey Dahil</td>\n",
       "      <td>Antalya</td>\n",
       "      <td>Saturday</td>\n",
       "      <td>0</td>\n",
       "      <td>Low</td>\n",
       "    </tr>\n",
       "    <tr>\n",
       "      <th>1</th>\n",
       "      <td>415103</td>\n",
       "      <td>2022-12-03</td>\n",
       "      <td>2022-12-03</td>\n",
       "      <td>45.970696</td>\n",
       "      <td>Yarım Pansiyon</td>\n",
       "      <td>Antalya</td>\n",
       "      <td>Saturday</td>\n",
       "      <td>0</td>\n",
       "      <td>Low</td>\n",
       "    </tr>\n",
       "    <tr>\n",
       "      <th>2</th>\n",
       "      <td>404034</td>\n",
       "      <td>2022-09-12</td>\n",
       "      <td>2022-09-13</td>\n",
       "      <td>77.838828</td>\n",
       "      <td>Herşey Dahil</td>\n",
       "      <td>Antalya</td>\n",
       "      <td>Tuesday</td>\n",
       "      <td>1</td>\n",
       "      <td>High</td>\n",
       "    </tr>\n",
       "    <tr>\n",
       "      <th>3</th>\n",
       "      <td>415094</td>\n",
       "      <td>2022-12-03</td>\n",
       "      <td>2022-12-10</td>\n",
       "      <td>222.710623</td>\n",
       "      <td>Yarım Pansiyon</td>\n",
       "      <td>İzmir</td>\n",
       "      <td>Saturday</td>\n",
       "      <td>7</td>\n",
       "      <td>Low</td>\n",
       "    </tr>\n",
       "    <tr>\n",
       "      <th>4</th>\n",
       "      <td>414951</td>\n",
       "      <td>2022-12-01</td>\n",
       "      <td>2022-12-03</td>\n",
       "      <td>140.476190</td>\n",
       "      <td>Yarım Pansiyon</td>\n",
       "      <td>İzmir</td>\n",
       "      <td>Saturday</td>\n",
       "      <td>2</td>\n",
       "      <td>Low</td>\n",
       "    </tr>\n",
       "  </tbody>\n",
       "</table>\n",
       "</div>"
      ],
      "text/plain": [
       "   SaleId   SaleDate CheckInDate       Price     ConceptName SaleCityName   \n",
       "0  415122 2022-12-03  2022-12-03   79.304029    Herşey Dahil      Antalya  \\\n",
       "1  415103 2022-12-03  2022-12-03   45.970696  Yarım Pansiyon      Antalya   \n",
       "2  404034 2022-09-12  2022-09-13   77.838828    Herşey Dahil      Antalya   \n",
       "3  415094 2022-12-03  2022-12-10  222.710623  Yarım Pansiyon        İzmir   \n",
       "4  414951 2022-12-01  2022-12-03  140.476190  Yarım Pansiyon        İzmir   \n",
       "\n",
       "     CInDay  SaleCheckInDayDiff Seasons  \n",
       "0  Saturday                   0     Low  \n",
       "1  Saturday                   0     Low  \n",
       "2   Tuesday                   1    High  \n",
       "3  Saturday                   7     Low  \n",
       "4  Saturday                   2     Low  "
      ]
     },
     "execution_count": 2,
     "metadata": {},
     "output_type": "execute_result"
    }
   ],
   "source": [
    "df.head()"
   ]
  },
  {
   "cell_type": "code",
   "execution_count": 7,
   "metadata": {},
   "outputs": [
    {
     "data": {
      "text/plain": [
       "(59164, 9)"
      ]
     },
     "execution_count": 7,
     "metadata": {},
     "output_type": "execute_result"
    }
   ],
   "source": [
    "df.shape"
   ]
  },
  {
   "cell_type": "code",
   "execution_count": 8,
   "metadata": {},
   "outputs": [
    {
     "data": {
      "text/plain": [
       "2"
      ]
     },
     "execution_count": 8,
     "metadata": {},
     "output_type": "execute_result"
    }
   ],
   "source": [
    "df.ndim"
   ]
  },
  {
   "cell_type": "code",
   "execution_count": 12,
   "metadata": {},
   "outputs": [
    {
     "data": {
      "text/plain": [
       "['ConceptName', 'SaleCityName', 'CInDay', 'Seasons']"
      ]
     },
     "execution_count": 12,
     "metadata": {},
     "output_type": "execute_result"
    }
   ],
   "source": [
    "cat_cols = [col for col in df.columns if df[col].dtype == object]\n",
    "cat_cols"
   ]
  },
  {
   "cell_type": "code",
   "execution_count": 15,
   "metadata": {},
   "outputs": [
    {
     "name": "stdout",
     "output_type": "stream",
     "text": [
      "ConceptName\n",
      "Herşey Dahil      53186\n",
      "Yarım Pansiyon     3559\n",
      "Oda + Kahvaltı     2419\n",
      "Name: count, dtype: int64\n",
      "- - - \n",
      "\n",
      "SaleCityName\n",
      "Antalya    31649\n",
      "Muğla      10662\n",
      "Aydın      10646\n",
      "Diğer       3245\n",
      "İzmir       2507\n",
      "Girne        455\n",
      "Name: count, dtype: int64\n",
      "- - - \n",
      "\n",
      "CInDay\n",
      "Monday       12794\n",
      "Saturday      9967\n",
      "Friday        8683\n",
      "Thursday      7314\n",
      "Sunday        7050\n",
      "Tuesday       6807\n",
      "Wednesday     6549\n",
      "Name: count, dtype: int64\n",
      "- - - \n",
      "\n",
      "Seasons\n",
      "High    50946\n",
      "Low      8218\n",
      "Name: count, dtype: int64\n",
      "- - - \n",
      "\n"
     ]
    }
   ],
   "source": [
    "for col in cat_cols:\n",
    "    print(df[col].value_counts())\n",
    "    print(\"- - - \\n\")"
   ]
  },
  {
   "cell_type": "code",
   "execution_count": 4,
   "metadata": {},
   "outputs": [
    {
     "name": "stdout",
     "output_type": "stream",
     "text": [
      "<class 'pandas.core.frame.DataFrame'>\n",
      "RangeIndex: 59164 entries, 0 to 59163\n",
      "Data columns (total 9 columns):\n",
      " #   Column              Non-Null Count  Dtype         \n",
      "---  ------              --------------  -----         \n",
      " 0   SaleId              59164 non-null  int64         \n",
      " 1   SaleDate            59164 non-null  datetime64[ns]\n",
      " 2   CheckInDate         59164 non-null  datetime64[ns]\n",
      " 3   Price               59151 non-null  float64       \n",
      " 4   ConceptName         59164 non-null  object        \n",
      " 5   SaleCityName        59164 non-null  object        \n",
      " 6   CInDay              59164 non-null  object        \n",
      " 7   SaleCheckInDayDiff  59164 non-null  int64         \n",
      " 8   Seasons             59164 non-null  object        \n",
      "dtypes: datetime64[ns](2), float64(1), int64(2), object(4)\n",
      "memory usage: 4.1+ MB\n"
     ]
    }
   ],
   "source": [
    "df.info()"
   ]
  },
  {
   "cell_type": "markdown",
   "metadata": {},
   "source": [
    "# Soru 2: Kaç unique şehir vardır? Frekansları nedir?"
   ]
  },
  {
   "cell_type": "code",
   "execution_count": 17,
   "metadata": {},
   "outputs": [
    {
     "data": {
      "text/plain": [
       "array(['Antalya', 'İzmir', 'Diğer', 'Aydın', 'Muğla', 'Girne'],\n",
       "      dtype=object)"
      ]
     },
     "execution_count": 17,
     "metadata": {},
     "output_type": "execute_result"
    }
   ],
   "source": [
    "df[\"SaleCityName\"].unique()"
   ]
  },
  {
   "cell_type": "code",
   "execution_count": 18,
   "metadata": {},
   "outputs": [
    {
     "data": {
      "text/plain": [
       "6"
      ]
     },
     "execution_count": 18,
     "metadata": {},
     "output_type": "execute_result"
    }
   ],
   "source": [
    "df[\"SaleCityName\"].nunique()"
   ]
  },
  {
   "cell_type": "code",
   "execution_count": 19,
   "metadata": {},
   "outputs": [
    {
     "data": {
      "text/plain": [
       "SaleCityName\n",
       "Antalya    31649\n",
       "Muğla      10662\n",
       "Aydın      10646\n",
       "Diğer       3245\n",
       "İzmir       2507\n",
       "Girne        455\n",
       "Name: count, dtype: int64"
      ]
     },
     "execution_count": 19,
     "metadata": {},
     "output_type": "execute_result"
    }
   ],
   "source": [
    "df[\"SaleCityName\"].value_counts()"
   ]
  },
  {
   "cell_type": "markdown",
   "metadata": {},
   "source": [
    "# Soru 3: Kaç unique Concept vardır?"
   ]
  },
  {
   "cell_type": "code",
   "execution_count": 4,
   "metadata": {},
   "outputs": [
    {
     "data": {
      "text/plain": [
       "0      Herşey Dahil\n",
       "1    Yarım Pansiyon\n",
       "2      Herşey Dahil\n",
       "3    Yarım Pansiyon\n",
       "4    Yarım Pansiyon\n",
       "Name: ConceptName, dtype: object"
      ]
     },
     "execution_count": 4,
     "metadata": {},
     "output_type": "execute_result"
    }
   ],
   "source": [
    "df[\"ConceptName\"].head()"
   ]
  },
  {
   "cell_type": "code",
   "execution_count": 5,
   "metadata": {},
   "outputs": [
    {
     "data": {
      "text/plain": [
       "array(['Herşey Dahil', 'Yarım Pansiyon', 'Oda + Kahvaltı'], dtype=object)"
      ]
     },
     "execution_count": 5,
     "metadata": {},
     "output_type": "execute_result"
    }
   ],
   "source": [
    "df[\"ConceptName\"].unique()"
   ]
  },
  {
   "cell_type": "code",
   "execution_count": 6,
   "metadata": {},
   "outputs": [
    {
     "data": {
      "text/plain": [
       "3"
      ]
     },
     "execution_count": 6,
     "metadata": {},
     "output_type": "execute_result"
    }
   ],
   "source": [
    "df[\"ConceptName\"].nunique()"
   ]
  },
  {
   "cell_type": "markdown",
   "metadata": {},
   "source": [
    "# Soru 4: Hangi Concept’den kaçar tane satışgerçekleşmiş?"
   ]
  },
  {
   "cell_type": "code",
   "execution_count": 7,
   "metadata": {},
   "outputs": [
    {
     "data": {
      "text/plain": [
       "ConceptName\n",
       "Herşey Dahil      53186\n",
       "Yarım Pansiyon     3559\n",
       "Oda + Kahvaltı     2419\n",
       "Name: count, dtype: int64"
      ]
     },
     "execution_count": 7,
     "metadata": {},
     "output_type": "execute_result"
    }
   ],
   "source": [
    "df[\"ConceptName\"].value_counts()"
   ]
  },
  {
   "cell_type": "markdown",
   "metadata": {},
   "source": [
    "# Soru 5: Şehirlere göre satışlardan toplam ne kadar kazanılmış?"
   ]
  },
  {
   "cell_type": "code",
   "execution_count": 12,
   "metadata": {},
   "outputs": [
    {
     "data": {
      "text/html": [
       "<div>\n",
       "<style scoped>\n",
       "    .dataframe tbody tr th:only-of-type {\n",
       "        vertical-align: middle;\n",
       "    }\n",
       "\n",
       "    .dataframe tbody tr th {\n",
       "        vertical-align: top;\n",
       "    }\n",
       "\n",
       "    .dataframe thead th {\n",
       "        text-align: right;\n",
       "    }\n",
       "</style>\n",
       "<table border=\"1\" class=\"dataframe\">\n",
       "  <thead>\n",
       "    <tr style=\"text-align: right;\">\n",
       "      <th></th>\n",
       "      <th>Price</th>\n",
       "    </tr>\n",
       "    <tr>\n",
       "      <th>SaleCityName</th>\n",
       "      <th></th>\n",
       "    </tr>\n",
       "  </thead>\n",
       "  <tbody>\n",
       "    <tr>\n",
       "      <th>Antalya</th>\n",
       "      <td>2.041911e+06</td>\n",
       "    </tr>\n",
       "    <tr>\n",
       "      <th>Aydın</th>\n",
       "      <td>5.732960e+05</td>\n",
       "    </tr>\n",
       "    <tr>\n",
       "      <th>Diğer</th>\n",
       "      <td>1.545723e+05</td>\n",
       "    </tr>\n",
       "    <tr>\n",
       "      <th>Girne</th>\n",
       "      <td>2.706503e+04</td>\n",
       "    </tr>\n",
       "    <tr>\n",
       "      <th>Muğla</th>\n",
       "      <td>6.658422e+05</td>\n",
       "    </tr>\n",
       "    <tr>\n",
       "      <th>İzmir</th>\n",
       "      <td>1.659348e+05</td>\n",
       "    </tr>\n",
       "  </tbody>\n",
       "</table>\n",
       "</div>"
      ],
      "text/plain": [
       "                     Price\n",
       "SaleCityName              \n",
       "Antalya       2.041911e+06\n",
       "Aydın         5.732960e+05\n",
       "Diğer         1.545723e+05\n",
       "Girne         2.706503e+04\n",
       "Muğla         6.658422e+05\n",
       "İzmir         1.659348e+05"
      ]
     },
     "execution_count": 12,
     "metadata": {},
     "output_type": "execute_result"
    }
   ],
   "source": [
    "df.groupby(\"SaleCityName\").agg({\"Price\":\"sum\"})"
   ]
  },
  {
   "cell_type": "markdown",
   "metadata": {},
   "source": [
    "# Soru 6: Concept türlerine göre göre ne kadar kazanılmış?"
   ]
  },
  {
   "cell_type": "code",
   "execution_count": 13,
   "metadata": {},
   "outputs": [
    {
     "data": {
      "text/html": [
       "<div>\n",
       "<style scoped>\n",
       "    .dataframe tbody tr th:only-of-type {\n",
       "        vertical-align: middle;\n",
       "    }\n",
       "\n",
       "    .dataframe tbody tr th {\n",
       "        vertical-align: top;\n",
       "    }\n",
       "\n",
       "    .dataframe thead th {\n",
       "        text-align: right;\n",
       "    }\n",
       "</style>\n",
       "<table border=\"1\" class=\"dataframe\">\n",
       "  <thead>\n",
       "    <tr style=\"text-align: right;\">\n",
       "      <th></th>\n",
       "      <th>Price</th>\n",
       "    </tr>\n",
       "    <tr>\n",
       "      <th>ConceptName</th>\n",
       "      <th></th>\n",
       "    </tr>\n",
       "  </thead>\n",
       "  <tbody>\n",
       "    <tr>\n",
       "      <th>Herşey Dahil</th>\n",
       "      <td>3.332911e+06</td>\n",
       "    </tr>\n",
       "    <tr>\n",
       "      <th>Oda + Kahvaltı</th>\n",
       "      <td>1.213084e+05</td>\n",
       "    </tr>\n",
       "    <tr>\n",
       "      <th>Yarım Pansiyon</th>\n",
       "      <td>1.744024e+05</td>\n",
       "    </tr>\n",
       "  </tbody>\n",
       "</table>\n",
       "</div>"
      ],
      "text/plain": [
       "                       Price\n",
       "ConceptName                 \n",
       "Herşey Dahil    3.332911e+06\n",
       "Oda + Kahvaltı  1.213084e+05\n",
       "Yarım Pansiyon  1.744024e+05"
      ]
     },
     "execution_count": 13,
     "metadata": {},
     "output_type": "execute_result"
    }
   ],
   "source": [
    "df.groupby(\"ConceptName\").agg({\"Price\":\"sum\"})"
   ]
  },
  {
   "cell_type": "markdown",
   "metadata": {},
   "source": [
    "# Soru 7: Şehirlere göre PRICE ortalamaları nedir?"
   ]
  },
  {
   "cell_type": "code",
   "execution_count": 16,
   "metadata": {},
   "outputs": [
    {
     "data": {
      "text/html": [
       "<div>\n",
       "<style scoped>\n",
       "    .dataframe tbody tr th:only-of-type {\n",
       "        vertical-align: middle;\n",
       "    }\n",
       "\n",
       "    .dataframe tbody tr th {\n",
       "        vertical-align: top;\n",
       "    }\n",
       "\n",
       "    .dataframe thead th {\n",
       "        text-align: right;\n",
       "    }\n",
       "</style>\n",
       "<table border=\"1\" class=\"dataframe\">\n",
       "  <thead>\n",
       "    <tr style=\"text-align: right;\">\n",
       "      <th></th>\n",
       "      <th>Price</th>\n",
       "    </tr>\n",
       "    <tr>\n",
       "      <th>SaleCityName</th>\n",
       "      <th></th>\n",
       "    </tr>\n",
       "  </thead>\n",
       "  <tbody>\n",
       "    <tr>\n",
       "      <th>Antalya</th>\n",
       "      <td>64.521474</td>\n",
       "    </tr>\n",
       "    <tr>\n",
       "      <th>Aydın</th>\n",
       "      <td>53.855896</td>\n",
       "    </tr>\n",
       "    <tr>\n",
       "      <th>Diğer</th>\n",
       "      <td>47.707497</td>\n",
       "    </tr>\n",
       "    <tr>\n",
       "      <th>Girne</th>\n",
       "      <td>59.483579</td>\n",
       "    </tr>\n",
       "    <tr>\n",
       "      <th>Muğla</th>\n",
       "      <td>62.461746</td>\n",
       "    </tr>\n",
       "    <tr>\n",
       "      <th>İzmir</th>\n",
       "      <td>66.267905</td>\n",
       "    </tr>\n",
       "  </tbody>\n",
       "</table>\n",
       "</div>"
      ],
      "text/plain": [
       "                  Price\n",
       "SaleCityName           \n",
       "Antalya       64.521474\n",
       "Aydın         53.855896\n",
       "Diğer         47.707497\n",
       "Girne         59.483579\n",
       "Muğla         62.461746\n",
       "İzmir         66.267905"
      ]
     },
     "execution_count": 16,
     "metadata": {},
     "output_type": "execute_result"
    }
   ],
   "source": [
    "df.groupby(\"SaleCityName\").agg({\"Price\":\"mean\"}) "
   ]
  },
  {
   "cell_type": "markdown",
   "metadata": {},
   "source": [
    "# Soru 8: Conceptlere göre PRICE ortalamaları nedir?"
   ]
  },
  {
   "cell_type": "code",
   "execution_count": 17,
   "metadata": {},
   "outputs": [
    {
     "data": {
      "text/html": [
       "<div>\n",
       "<style scoped>\n",
       "    .dataframe tbody tr th:only-of-type {\n",
       "        vertical-align: middle;\n",
       "    }\n",
       "\n",
       "    .dataframe tbody tr th {\n",
       "        vertical-align: top;\n",
       "    }\n",
       "\n",
       "    .dataframe thead th {\n",
       "        text-align: right;\n",
       "    }\n",
       "</style>\n",
       "<table border=\"1\" class=\"dataframe\">\n",
       "  <thead>\n",
       "    <tr style=\"text-align: right;\">\n",
       "      <th></th>\n",
       "      <th>Price</th>\n",
       "    </tr>\n",
       "    <tr>\n",
       "      <th>ConceptName</th>\n",
       "      <th></th>\n",
       "    </tr>\n",
       "  </thead>\n",
       "  <tbody>\n",
       "    <tr>\n",
       "      <th>Herşey Dahil</th>\n",
       "      <td>62.672260</td>\n",
       "    </tr>\n",
       "    <tr>\n",
       "      <th>Oda + Kahvaltı</th>\n",
       "      <td>50.252010</td>\n",
       "    </tr>\n",
       "    <tr>\n",
       "      <th>Yarım Pansiyon</th>\n",
       "      <td>49.030742</td>\n",
       "    </tr>\n",
       "  </tbody>\n",
       "</table>\n",
       "</div>"
      ],
      "text/plain": [
       "                    Price\n",
       "ConceptName              \n",
       "Herşey Dahil    62.672260\n",
       "Oda + Kahvaltı  50.252010\n",
       "Yarım Pansiyon  49.030742"
      ]
     },
     "execution_count": 17,
     "metadata": {},
     "output_type": "execute_result"
    }
   ],
   "source": [
    "df.groupby(\"ConceptName\").agg({\"Price\":\"mean\"}) "
   ]
  },
  {
   "cell_type": "markdown",
   "metadata": {},
   "source": [
    "# Soru 9: Şehir-Concept kırılımında PRICE ortalamaları nedir?"
   ]
  },
  {
   "cell_type": "code",
   "execution_count": 29,
   "metadata": {},
   "outputs": [
    {
     "data": {
      "text/plain": [
       "SaleCityName  ConceptName   \n",
       "Antalya       Herşey Dahil      64.519028\n",
       "              Oda + Kahvaltı    63.504816\n",
       "              Yarım Pansiyon    67.190613\n",
       "Aydın         Herşey Dahil      53.995467\n",
       "              Oda + Kahvaltı    34.458787\n",
       "              Yarım Pansiyon    30.016543\n",
       "Diğer         Herşey Dahil      84.771093\n",
       "              Oda + Kahvaltı    37.599082\n",
       "              Yarım Pansiyon    42.113440\n",
       "Girne         Herşey Dahil      97.680970\n",
       "              Oda + Kahvaltı    39.775536\n",
       "              Yarım Pansiyon    53.247838\n",
       "Muğla         Herşey Dahil      63.020053\n",
       "              Oda + Kahvaltı    59.037763\n",
       "              Yarım Pansiyon    45.120924\n",
       "İzmir         Herşey Dahil      74.701519\n",
       "              Oda + Kahvaltı    41.320342\n",
       "              Yarım Pansiyon    59.610053\n",
       "Name: Price, dtype: float64"
      ]
     },
     "execution_count": 29,
     "metadata": {},
     "output_type": "execute_result"
    }
   ],
   "source": [
    "df.groupby([\"SaleCityName\", \"ConceptName\"])[\"Price\"].mean()"
   ]
  }
 ],
 "metadata": {
  "kernelspec": {
   "display_name": "Python 3",
   "language": "python",
   "name": "python3"
  },
  "language_info": {
   "codemirror_mode": {
    "name": "ipython",
    "version": 3
   },
   "file_extension": ".py",
   "mimetype": "text/x-python",
   "name": "python",
   "nbconvert_exporter": "python",
   "pygments_lexer": "ipython3",
   "version": "3.10.6"
  },
  "orig_nbformat": 4
 },
 "nbformat": 4,
 "nbformat_minor": 2
}
